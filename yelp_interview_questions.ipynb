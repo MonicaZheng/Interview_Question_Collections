{
 "cells": [
  {
   "cell_type": "code",
   "execution_count": 41,
   "metadata": {},
   "outputs": [
    {
     "name": "stdout",
     "output_type": "stream",
     "text": [
      "7\n",
      "aaaaaaaa\n"
     ]
    }
   ],
   "source": [
    "####1. Merge String  \n",
    "a = 'aaaaaaaa'\n",
    "b = 'a'\n",
    "m = len(a)\n",
    "n = len(b)\n",
    "ans = len(a) \n",
    "for i in range(m):\n",
    "    for j in range(n):\n",
    "        if a[i+j] != b[j]:\n",
    "            break\n",
    "        else:\n",
    "            if i+j == m -1:\n",
    "                ans = i\n",
    "                break\n",
    "       \n",
    "    print(ans)\n",
    "print(a[:ans] + b)"
   ]
  },
  {
   "cell_type": "code",
   "execution_count": 454,
   "metadata": {},
   "outputs": [
    {
     "name": "stdout",
     "output_type": "stream",
     "text": [
      "['Burger King', 'Burger King', 'kdk dnsd Burgers', 'kdk dnsd Burgers', 'kdk dnsd Burgers', \"sad Burger's\", \"sad Burger's\", 'asdd das a', 'asdd das a', 'asdd das a', 'Walburgers']\n"
     ]
    }
   ],
   "source": [
    "###2.\n",
    "#### Prefix/Non-prefix Search \n",
    "#### prefix search\n",
    "import collections\n",
    "class TrieNode:\n",
    "# Initialize your data structure here.\n",
    "    def __init__(self):\n",
    "        self.children = {}\n",
    "class Solution:\n",
    "    def __init__(self):\n",
    "        self.node = TrieNode()\n",
    "    def insert(self, word):\n",
    "        current = self.node\n",
    "        for char in word:\n",
    "            char = char.lower()\n",
    "            if char not in current.children:\n",
    "                current.children[char] = TrieNode()\n",
    "            current = current.children[char]\n",
    "    def prefix_search(self, word):\n",
    "        current = self.node\n",
    "        for char in word:\n",
    "            if char in current.children:\n",
    "#                 return False\n",
    "                current = current.children[char]\n",
    "        return True\n",
    "##test:\n",
    "a = [\"Burger King\", \"kdk dnsd Burgers\", \"sad Burger's\", \"asdd das a\", \"Walburgers\"]\n",
    "res = []\n",
    "solution = Solution()\n",
    "for word in a:\n",
    "    for sub in word.split(' '):\n",
    "#         print(sub)\n",
    "        solution.insert(sub)\n",
    "#         print(solution)\n",
    "        if solution.prefix_search('bur'):\n",
    "            res.append(word)\n",
    "print(res)"
   ]
  },
  {
   "cell_type": "code",
   "execution_count": 54,
   "metadata": {},
   "outputs": [],
   "source": [
    "def strStr(haystack: str, needle: str):\n",
    "        if not needle:\n",
    "            return 0\n",
    "        for i in range(len(haystack) - len(needle) + 1):\n",
    "            for j in range(len(needle)):\n",
    "                if haystack[i + j] != needle[j]:\n",
    "                    break\n",
    "                if j == len(needle) - 1:\n",
    "                    return True\n",
    "        return False"
   ]
  },
  {
   "cell_type": "code",
   "execution_count": 55,
   "metadata": {},
   "outputs": [
    {
     "name": "stdout",
     "output_type": "stream",
     "text": [
      "['Burger King', 'kdk dnsd Burgers', \"sad Burger's\", 'Walburgers']\n"
     ]
    }
   ],
   "source": [
    "####3. substring search\n",
    "a = [\"Burger King\", \"kdk dnsd Burgers\", \"sad Burger's\", \"asdd das a\", \"Walburgers\"]\n",
    "res = []\n",
    "for name in a:\n",
    "    for char in name.split(' '):\n",
    "        if strStr(char.lower(), 'bur'):\n",
    "            res.append(name)\n",
    "print(res)"
   ]
  },
  {
   "cell_type": "code",
   "execution_count": 106,
   "metadata": {},
   "outputs": [],
   "source": [
    "###4. love messgae\n",
    "love_message = [{\"sender\":'a', \"email\":'1',\"receiver\":'b'},\n",
    "                {\"sender\":'a', \"email\":'1',\"receiver\":'b'},\n",
    "                {\"sender\":'c', \"email\":'3',\"receiver\":'a'},\n",
    "                {\"sender\":'b', \"email\":'2',\"receiver\":'c'}]\n",
    "\n",
    "class Item:\n",
    "    def __init__(self,count,word):\n",
    "        self.count = count\n",
    "        self.word = word\n",
    "    \n",
    "    def __lt__(self, other):\n",
    "        if self.count == other.count:\n",
    "            return self.word > other.word\n",
    "        return self.count < other.count\n",
    "import collections, heapq\n",
    "def top_k(love_messgae, k):\n",
    "    count_map = collections.defaultdict(int)\n",
    "    heap = []\n",
    "    res = []\n",
    "    for item in love_message:\n",
    "        count_map[item[\"receiver\"]] += 1\n",
    "    for name, count in count_map.items():\n",
    "        item = Item(count, name)\n",
    "        heapq.heappush(heap, (item))\n",
    "        if len(heap)> k:\n",
    "            heapq.heappop(heap)\n",
    "    while heap:\n",
    "        res.append(heapq.heappop(heap).word)\n",
    "    return res[::-1]\n",
    "top_k(love_message, 2)\n",
    "\n",
    "###follow up: remove duplicates:\n",
    "visited = []\n",
    "for item in love_message:\n",
    "    if item in visited:\n",
    "        continue\n",
    "    visited.append(item)\n"
   ]
  },
  {
   "cell_type": "code",
   "execution_count": 452,
   "metadata": {},
   "outputs": [
    {
     "data": {
      "text/plain": [
       "[('f', 'b'), ('e', 'd'), ('c', 'a')]"
      ]
     },
     "execution_count": 452,
     "metadata": {},
     "output_type": "execute_result"
    }
   ],
   "source": [
    "####5.Random Match Users\n",
    "def helper(a_list):\n",
    "    res = []\n",
    "    random.shuffle(a_list)\n",
    "    for i in range(1, len(a_list),2):\n",
    "        res.append((a_list[i-1], a_list[i]))\n",
    "    return res\n",
    "\n",
    "a_list = ['a','b','c','d','e','f']\n",
    "helper(a_list)"
   ]
  },
  {
   "cell_type": "code",
   "execution_count": 385,
   "metadata": {},
   "outputs": [
    {
     "name": "stdout",
     "output_type": "stream",
     "text": [
      "[{'id': 'TOM', 'team': 'c'}, {'id': 'Same', 'team': 'd'}, {'id': 'Da', 'team': 'a'}, {'id': 'Alan', 'team': 'a'}]\n",
      "[('TOM', 'Same'), ('Da', None), ('Alan', None)]\n"
     ]
    }
   ],
   "source": [
    "####Random Match Users follow up\n",
    "b_list = [{'id': 'Alan', 'team': 'a'}, {'id': 'Da', 'team': 'a'},\n",
    "          {'id': 'Same', 'team': 'd'}, {'id': 'TOM', 'team': 'c'} ]       \n",
    "random.shuffle(b_list)\n",
    "res = []\n",
    "print(b_list)\n",
    "for i in range(len(b_list)-1):\n",
    "    if b_list[i]['team'] == b_list[i+1]['team']:\n",
    "        continue\n",
    "    if not b_list[i]['id']:\n",
    "        continue\n",
    "    res.append((b_list[i]['id'], b_list[i+1]['id']))\n",
    "    b_list[i]['id'] = None\n",
    "    b_list[i+1]['id'] = None\n",
    "for i in range(len(b_list)-1):\n",
    "    if not b_list[i]['id']:\n",
    "        continue\n",
    "    for j in range(i+1, len(b_list)):\n",
    "        if b_list[i]['id'] and b_list[j]['id']:\n",
    "            if b_list[i]['team'] != b_list[j]['team']:\n",
    "                res.append((b_list[i]['id'], b_list[j]['id']))\n",
    "            else:\n",
    "                res.append((b_list[i]['id'], None))\n",
    "                res.append((b_list[j]['id'], None))\n",
    "            b_list[i]['id'] = None\n",
    "            b_list[j]['id'] = None\n",
    "if b_list[len(b_list)-1]['id']:\n",
    "    res.append((b_list[len(b_list)-1]['id'], None))\n",
    "print(res)"
   ]
  },
  {
   "cell_type": "code",
   "execution_count": 331,
   "metadata": {},
   "outputs": [],
   "source": [
    "####6. Waiting List\n",
    "class Party:\n",
    "    def __init__(self,name,size):\n",
    "        self.name = name\n",
    "        self.size = size\n",
    "        self.next = None    \n",
    "class Table:\n",
    "    def __init__(self,size):\n",
    "        self.size = size\n",
    "class Solution:\n",
    "    def __init__(self):\n",
    "        self.head = Party('head',0)\n",
    "        self.tail = self.head\n",
    "    def addParty(self, party):\n",
    "        self.tail.next = party\n",
    "        self.tail = self.tail.next     \n",
    "    def chooseParty(self, table):\n",
    "        start = self.head.next\n",
    "        prev = self.head\n",
    "        while start:\n",
    "            if start.size <= table.size:\n",
    "                prev.next = start.next\n",
    "                return start.name\n",
    "            else:\n",
    "                prev = start\n",
    "                start = start.next                "
   ]
  },
  {
   "cell_type": "code",
   "execution_count": 344,
   "metadata": {},
   "outputs": [],
   "source": [
    "solution = Solution()\n",
    "p1 = Party('a',10)\n",
    "p2 = Party('b',2)\n",
    "p3 = Party('c',3)\n",
    "solution.addParty(p1)\n",
    "solution.addParty(p2)\n",
    "solution.addParty(p3)"
   ]
  },
  {
   "cell_type": "code",
   "execution_count": 347,
   "metadata": {},
   "outputs": [
    {
     "name": "stdout",
     "output_type": "stream",
     "text": [
      "None\n"
     ]
    }
   ],
   "source": [
    "t1 = Table(3)\n",
    "print(solution.chooseParty(t1))"
   ]
  },
  {
   "cell_type": "code",
   "execution_count": 505,
   "metadata": {},
   "outputs": [],
   "source": [
    "from collections import defaultdict\n",
    "class TrieNode:\n",
    "    def __init__(self):\n",
    "        self.children = defaultdict(TrieNode)\n",
    "        self.isEnd = False\n",
    "    def insert(self, word):\n",
    "        node = self\n",
    "        for w in word:\n",
    "            node = node.children[w]\n",
    "        node.isEnd = True\n",
    "    def search(self, word):\n",
    "        node = self\n",
    "        for w in word:\n",
    "            if w in node.children:\n",
    "                node = node.children[w]\n",
    "            else:\n",
    "                return []\n",
    "        # prefix match\n",
    "        # traverse currnt node to all leaf nodes\n",
    "        result = []\n",
    "        self.traverse(node, list(word), result)\n",
    "        print(node.children)\n",
    "        return [''.join(r) for r in result]\n",
    "\n",
    "    def traverse(self, root, prefix, result):\n",
    "        if root.isEnd:\n",
    "            result.append(prefix[:])\n",
    "        \n",
    "        for c,n in root.children.items():\n",
    "            print(c)\n",
    "            prefix.append(c)\n",
    "            self.traverse(n, prefix, result)\n",
    "            prefix.pop(-1)"
   ]
  },
  {
   "cell_type": "code",
   "execution_count": 506,
   "metadata": {},
   "outputs": [
    {
     "name": "stdout",
     "output_type": "stream",
     "text": [
      "g\n",
      "e\n",
      "r\n",
      "g\n",
      "e\n",
      "g\n",
      "r\n",
      "s\n",
      "defaultdict(<class '__main__.TrieNode'>, {'g': <__main__.TrieNode object at 0x105b15860>, 'e': <__main__.TrieNode object at 0x105b15e10>})\n"
     ]
    },
    {
     "data": {
      "text/plain": [
       "['Burger king', 'a', 'burder']"
      ]
     },
     "execution_count": 506,
     "metadata": {},
     "output_type": "execute_result"
    }
   ],
   "source": [
    "words = {'burger': 'Burger king',\n",
    "        'king' : 'king',\n",
    "         'burgg' : 'a',\n",
    "        'buregrs': 'burder'}\n",
    "root = TrieNode()\n",
    "for w in words.keys():\n",
    "    root.insert(w)\n",
    "map_word = root.search('bur')\n",
    "res = []\n",
    "for item in map_word:\n",
    "    res.append(words[item])\n",
    "res"
   ]
  },
  {
   "cell_type": "code",
   "execution_count": null,
   "metadata": {},
   "outputs": [],
   "source": []
  }
 ],
 "metadata": {
  "kernelspec": {
   "display_name": "Python 3",
   "language": "python",
   "name": "python3"
  },
  "language_info": {
   "codemirror_mode": {
    "name": "ipython",
    "version": 3
   },
   "file_extension": ".py",
   "mimetype": "text/x-python",
   "name": "python",
   "nbconvert_exporter": "python",
   "pygments_lexer": "ipython3",
   "version": "3.6.2"
  }
 },
 "nbformat": 4,
 "nbformat_minor": 2
}
